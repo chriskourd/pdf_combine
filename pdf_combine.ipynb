{
 "cells": [
  {
   "cell_type": "code",
   "execution_count": 3,
   "id": "2dfa5537",
   "metadata": {},
   "outputs": [
    {
     "name": "stdout",
     "output_type": "stream",
     "text": [
      "PDFs combined successfully.\n"
     ]
    }
   ],
   "source": [
    "import PyPDF2\n",
    "\n",
    "# define the paths to the PDF files\n",
    "pdf1_path = r'C:\\Users\\chris\\Desktop\\combine_pdf\\1.pdf'\n",
    "pdf2_path = r'C:\\Users\\chris\\Desktop\\combine_pdf\\2.pdf'\n",
    "output_path = r'C:\\Users\\chris\\Desktop\\combine_pdf\\combined.pdf'\n",
    "\n",
    "# create a PDF writer object\n",
    "pdf_writer = PyPDF2.PdfWriter()\n",
    "\n",
    "# function to add a PDF to the writer\n",
    "def add_pdf_to_writer(pdf_path, writer):\n",
    "    pdf_reader = PyPDF2.PdfReader(pdf_path)\n",
    "    for page in range(len(pdf_reader.pages)):\n",
    "        writer.add_page(pdf_reader.pages[page])\n",
    "\n",
    "# add both PDFs to the writer\n",
    "add_pdf_to_writer(pdf1_path, pdf_writer)\n",
    "add_pdf_to_writer(pdf2_path, pdf_writer)\n",
    "\n",
    "# write out the combined PDF\n",
    "with open(output_path, 'wb') as out:\n",
    "    pdf_writer.write(out)\n",
    "\n",
    "print(\"PDFs combined successfully.\")"
   ]
  },
  {
   "cell_type": "code",
   "execution_count": null,
   "id": "8480a9fa",
   "metadata": {},
   "outputs": [],
   "source": []
  }
 ],
 "metadata": {
  "kernelspec": {
   "display_name": "Python 3 (ipykernel)",
   "language": "python",
   "name": "python3"
  },
  "language_info": {
   "codemirror_mode": {
    "name": "ipython",
    "version": 3
   },
   "file_extension": ".py",
   "mimetype": "text/x-python",
   "name": "python",
   "nbconvert_exporter": "python",
   "pygments_lexer": "ipython3",
   "version": "3.11.4"
  }
 },
 "nbformat": 4,
 "nbformat_minor": 5
}
